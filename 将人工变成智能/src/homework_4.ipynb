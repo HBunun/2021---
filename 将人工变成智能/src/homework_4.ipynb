{
 "cells": [
  {
   "cell_type": "code",
   "execution_count": 1,
   "metadata": {},
   "outputs": [],
   "source": [
    "import pandas as pd\n",
    "import os\n",
    "from sklearn.preprocessing import StandardScaler\n",
    "from sklearn.model_selection import train_test_split\n",
    "from sklearn.preprocessing import OneHotEncoder\n",
    "from sklearn.ensemble import RandomForestClassifier\n",
    "from sklearn.linear_model import LogisticRegression\n",
    "from sklearn.metrics import precision_score, recall_score, f1_score, confusion_matrix, classification_report, \\\n",
    "    accuracy_score\n",
    "import joblib"
   ]
  },
  {
   "cell_type": "code",
   "execution_count": 2,
   "metadata": {},
   "outputs": [
    {
     "name": "stdout",
     "output_type": "stream",
     "text": [
      "示例数据：\n",
      "   age  sex  cp  trestbps  chol  fbs  restecg  thalach  exang  oldpeak  slope  \\\n",
      "0   63    1   3       145   233    1        0      150      0      2.3      0   \n",
      "1   37    1   2       130   250    0        1      187      0      3.5      0   \n",
      "2   41    0   1       130   204    0        0      172      0      1.4      2   \n",
      "3   56    1   1       120   236    0        1      178      0      0.8      2   \n",
      "4   57    0   0       120   354    0        1      163      1      0.6      2   \n",
      "\n",
      "   ca  thal  target  \n",
      "0   0     1       1  \n",
      "1   0     2       1  \n",
      "2   0     2       1  \n",
      "3   0     2       1  \n",
      "4   0     2       1  \n",
      "----------------------------------------\n"
     ]
    }
   ],
   "source": [
    "# 读取数据\n",
    "dataset_path=\"heart.csv\"\n",
    "df=pd.read_csv(dataset_path)\n",
    "\n",
    "# 显示所有列\n",
    "pd.set_option('display.max_columns', None)\n",
    "\n",
    "# 显示前5条示例数据\n",
    "print(\"示例数据：\")\n",
    "print(df.head())\n",
    "print(\"-\" * 40)"
   ]
  },
  {
   "cell_type": "code",
   "execution_count": 3,
   "metadata": {},
   "outputs": [
    {
     "name": "stdout",
     "output_type": "stream",
     "text": [
      "数据基本信息：\n",
      "<class 'pandas.core.frame.DataFrame'>\n",
      "RangeIndex: 303 entries, 0 to 302\n",
      "Data columns (total 14 columns):\n",
      " #   Column    Non-Null Count  Dtype  \n",
      "---  ------    --------------  -----  \n",
      " 0   age       303 non-null    int64  \n",
      " 1   sex       303 non-null    int64  \n",
      " 2   cp        303 non-null    int64  \n",
      " 3   trestbps  303 non-null    int64  \n",
      " 4   chol      303 non-null    int64  \n",
      " 5   fbs       303 non-null    int64  \n",
      " 6   restecg   303 non-null    int64  \n",
      " 7   thalach   303 non-null    int64  \n",
      " 8   exang     303 non-null    int64  \n",
      " 9   oldpeak   303 non-null    float64\n",
      " 10  slope     303 non-null    int64  \n",
      " 11  ca        303 non-null    int64  \n",
      " 12  thal      303 non-null    int64  \n",
      " 13  target    303 non-null    int64  \n",
      "dtypes: float64(1), int64(13)\n",
      "memory usage: 33.3 KB\n",
      "None\n",
      "----------------------------------------\n"
     ]
    }
   ],
   "source": [
    "# 数据基本信息\n",
    "print(\"数据基本信息：\")\n",
    "print(df.info())\n",
    "print(\"-\" * 40)"
   ]
  },
  {
   "cell_type": "code",
   "execution_count": 4,
   "metadata": {},
   "outputs": [
    {
     "name": "stdout",
     "output_type": "stream",
     "text": [
      "数据简要分析：\n",
      "              age         sex          cp    trestbps        chol         fbs  \\\n",
      "count  303.000000  303.000000  303.000000  303.000000  303.000000  303.000000   \n",
      "mean    54.366337    0.683168    0.966997  131.623762  246.264026    0.148515   \n",
      "std      9.082101    0.466011    1.032052   17.538143   51.830751    0.356198   \n",
      "min     29.000000    0.000000    0.000000   94.000000  126.000000    0.000000   \n",
      "25%     47.500000    0.000000    0.000000  120.000000  211.000000    0.000000   \n",
      "50%     55.000000    1.000000    1.000000  130.000000  240.000000    0.000000   \n",
      "75%     61.000000    1.000000    2.000000  140.000000  274.500000    0.000000   \n",
      "max     77.000000    1.000000    3.000000  200.000000  564.000000    1.000000   \n",
      "\n",
      "          restecg     thalach       exang     oldpeak       slope          ca  \\\n",
      "count  303.000000  303.000000  303.000000  303.000000  303.000000  303.000000   \n",
      "mean     0.528053  149.646865    0.326733    1.039604    1.399340    0.729373   \n",
      "std      0.525860   22.905161    0.469794    1.161075    0.616226    1.022606   \n",
      "min      0.000000   71.000000    0.000000    0.000000    0.000000    0.000000   \n",
      "25%      0.000000  133.500000    0.000000    0.000000    1.000000    0.000000   \n",
      "50%      1.000000  153.000000    0.000000    0.800000    1.000000    0.000000   \n",
      "75%      1.000000  166.000000    1.000000    1.600000    2.000000    1.000000   \n",
      "max      2.000000  202.000000    1.000000    6.200000    2.000000    4.000000   \n",
      "\n",
      "             thal      target  \n",
      "count  303.000000  303.000000  \n",
      "mean     2.313531    0.544554  \n",
      "std      0.612277    0.498835  \n",
      "min      0.000000    0.000000  \n",
      "25%      2.000000    0.000000  \n",
      "50%      2.000000    1.000000  \n",
      "75%      3.000000    1.000000  \n",
      "max      3.000000    1.000000  \n",
      "----------------------------------------\n"
     ]
    }
   ],
   "source": [
    "# 数据分析\n",
    "print(\"数据简要分析：\")\n",
    "print(df.describe(include='all'))\n",
    "print(\"-\" * 40)"
   ]
  },
  {
   "cell_type": "code",
   "execution_count": 5,
   "metadata": {},
   "outputs": [],
   "source": [
    "# 标准化\n",
    "# 对cp，restecg，slope, ca, thal 进行标准化\n",
    "ss = StandardScaler()\n",
    "df['cp'] = ss.fit_transform(df[['cp']])\n",
    "df['restecg'] = ss.fit_transform(df[['restecg']])\n",
    "df['slope'] = ss.fit_transform(df[['slope']])\n",
    "df['ca'] = ss.fit_transform(df[['ca']])\n",
    "df['thal'] = ss.fit_transform(df[['thal']])"
   ]
  },
  {
   "cell_type": "code",
   "execution_count": 6,
   "metadata": {},
   "outputs": [],
   "source": [
    "# 输出预处理结果\n",
    "path = 'preprocess_data.csv'\n",
    "df.to_csv(path, index=False)"
   ]
  },
  {
   "cell_type": "code",
   "execution_count": 7,
   "metadata": {},
   "outputs": [
    {
     "name": "stdout",
     "output_type": "stream",
     "text": [
      "   age  sex        cp  trestbps  chol  fbs   restecg  thalach  exang  oldpeak  \\\n",
      "0   63    1  1.973123       145   233    1 -1.005832      150      0      2.3   \n",
      "1   37    1  1.002577       130   250    0  0.898962      187      0      3.5   \n",
      "2   41    0  0.032031       130   204    0 -1.005832      172      0      1.4   \n",
      "3   56    1  0.032031       120   236    0  0.898962      178      0      0.8   \n",
      "4   57    0 -0.938515       120   354    0  0.898962      163      1      0.6   \n",
      "5   57    1 -0.938515       140   192    0  0.898962      148      0      0.4   \n",
      "6   56    0  0.032031       140   294    0 -1.005832      153      0      1.3   \n",
      "7   44    1  0.032031       120   263    0  0.898962      173      0      0.0   \n",
      "8   52    1  1.002577       172   199    1  0.898962      162      0      0.5   \n",
      "9   57    1  1.002577       150   168    0  0.898962      174      0      1.6   \n",
      "\n",
      "      slope        ca      thal  target  \n",
      "0 -2.274579 -0.714429 -2.148873       1  \n",
      "1 -2.274579 -0.714429 -0.512922       1  \n",
      "2  0.976352 -0.714429 -0.512922       1  \n",
      "3  0.976352 -0.714429 -0.512922       1  \n",
      "4  0.976352 -0.714429 -0.512922       1  \n",
      "5 -0.649113 -0.714429 -2.148873       1  \n",
      "6 -0.649113 -0.714429 -0.512922       1  \n",
      "7  0.976352 -0.714429  1.123029       1  \n",
      "8  0.976352 -0.714429  1.123029       1  \n",
      "9  0.976352 -0.714429 -0.512922       1  \n"
     ]
    }
   ],
   "source": [
    "df=pd.read_csv(path)\n",
    "\n",
    "# 显示所有列\n",
    "pd.set_option('display.max_columns', None)\n",
    "\n",
    "# 前十条示例数据\n",
    "print(df.head(10))"
   ]
  },
  {
   "cell_type": "code",
   "execution_count": 8,
   "metadata": {},
   "outputs": [
    {
     "name": "stdout",
     "output_type": "stream",
     "text": [
      "Empty DataFrame\n",
      "Columns: []\n",
      "Index: [0, 1, 2, 3, 4, 5, 6, 7, 8, 9, 10, 11, 12, 13, 14, 15, 16, 17, 18, 19, 20, 21, 22, 23, 24, 25, 26, 27, 28, 29, 30, 31, 32, 33, 34, 35, 36, 37, 38, 39, 40, 41, 42, 43, 44, 45, 46, 47, 48, 49, 50, 51, 52, 53, 54, 55, 56, 57, 58, 59, 60, 61, 62, 63, 64, 65, 66, 67, 68, 69, 70, 71, 72, 73, 74, 75, 76, 77, 78, 79, 80, 81, 82, 83, 84, 85, 86, 87, 88, 89, 90, 91, 92, 93, 94, 95, 96, 97, 98, 99, ...]\n",
      "\n",
      "[303 rows x 0 columns]\n",
      "<class 'pandas.core.frame.DataFrame'>\n",
      "RangeIndex: 303 entries, 0 to 302\n",
      "Data columns (total 14 columns):\n",
      " #   Column    Non-Null Count  Dtype  \n",
      "---  ------    --------------  -----  \n",
      " 0   age       303 non-null    int64  \n",
      " 1   sex       303 non-null    int64  \n",
      " 2   cp        303 non-null    float64\n",
      " 3   trestbps  303 non-null    int64  \n",
      " 4   chol      303 non-null    int64  \n",
      " 5   fbs       303 non-null    int64  \n",
      " 6   restecg   303 non-null    float64\n",
      " 7   thalach   303 non-null    int64  \n",
      " 8   exang     303 non-null    int64  \n",
      " 9   oldpeak   303 non-null    float64\n",
      " 10  slope     303 non-null    float64\n",
      " 11  ca        303 non-null    float64\n",
      " 12  thal      303 non-null    float64\n",
      " 13  target    303 non-null    int64  \n",
      "dtypes: float64(6), int64(8)\n",
      "memory usage: 33.3 KB\n",
      "None\n"
     ]
    }
   ],
   "source": [
    "import numpy as np\n",
    "\n",
    "df_num = df.select_dtypes(include=[np.number])\n",
    "df_cat = df.select_dtypes(exclude=[np.number])\n",
    "\n",
    "# 独热编码\n",
    "enc = OneHotEncoder(handle_unknown='ignore')\n",
    "cat_enc_data = enc.fit_transform(df_cat).toarray()\n",
    "df_cat_enc = pd.DataFrame(data=cat_enc_data, columns=enc.get_feature_names(df_cat.columns))\n",
    "print(df_cat_enc)\n",
    "\n",
    "# 合并数值类型和分类类型\n",
    "df = pd.merge(df_num, df_cat_enc, left_index=True, right_index=True)\n",
    "print(df.info())"
   ]
  },
  {
   "cell_type": "code",
   "execution_count": 9,
   "metadata": {},
   "outputs": [
    {
     "name": "stdout",
     "output_type": "stream",
     "text": [
      "[('cp', 0.13868640423731615), ('thalach', 0.11913566876826913), ('oldpeak', 0.10983854226354828), ('ca', 0.10805447832932717), ('thal', 0.105781879177623), ('age', 0.08394447141263667), ('trestbps', 0.07872527510850652), ('chol', 0.07274602832597533), ('exang', 0.06887610536988822), ('slope', 0.05138204331563184), ('sex', 0.033662509312909907), ('restecg', 0.019604030201399038), ('fbs', 0.0095625641769688)]\n"
     ]
    }
   ],
   "source": [
    "y = df.get('target')\n",
    "X = df.drop('target', axis=1)\n",
    "\n",
    "\n",
    "# 特征重要性\n",
    "rf = RandomForestClassifier()\n",
    "rf.fit(X, y)\n",
    "\n",
    "importance = dict(zip(X.columns, rf.feature_importances_))\n",
    "importance = sorted(importance.items(), key=lambda kv: (kv[1], kv[0]), reverse=True)\n",
    "print(importance)\n",
    "\n",
    "# 数据划分\n",
    "X_train, X_test, y_train, y_test = train_test_split(X, y, test_size=0.3)\n",
    "train_df = pd.merge(X_train, y_train, left_index=True, right_index=True)\n",
    "test_df = pd.merge(X_test, y_test, left_index=True, right_index=True)\n",
    "\n",
    "train_df.to_csv(\"train_data.csv\", index=False)\n",
    "test_df.to_csv(\"test_data.csv\", index=False)"
   ]
  },
  {
   "cell_type": "code",
   "execution_count": 10,
   "metadata": {},
   "outputs": [
    {
     "data": {
      "text/plain": [
       "['lr.pkl']"
      ]
     },
     "execution_count": 10,
     "metadata": {},
     "output_type": "execute_result"
    }
   ],
   "source": [
    "path='train_data.csv'\n",
    "\n",
    "# 读取数据\n",
    "df = pd.read_csv(path)\n",
    "\n",
    "y = df.get('target')\n",
    "\n",
    "X = df.drop('target', axis=1)\n",
    "\n",
    "# 逻辑回归\n",
    "lr = LogisticRegression(max_iter=5000)\n",
    "\n",
    "# 拟合\n",
    "model = lr.fit(X, y)\n",
    "\n",
    "model_path = 'lr.pkl'\n",
    "\n",
    "joblib.dump(model, model_path, compress=3)"
   ]
  },
  {
   "cell_type": "code",
   "execution_count": 11,
   "metadata": {
    "scrolled": true
   },
   "outputs": [
    {
     "name": "stdout",
     "output_type": "stream",
     "text": [
      "预测结果:    target  prediction\n",
      "0        1           1\n",
      "1        0           0\n",
      "2        1           1\n",
      "3        0           0\n",
      "4        1           1\n",
      "..     ...         ...\n",
      "86       1           1\n",
      "87       0           1\n",
      "88       0           0\n",
      "89       0           0\n",
      "90       0           0\n",
      "\n",
      "[91 rows x 2 columns]\n",
      "准确率:0.8241758241758241\n",
      "精确率:0.803921568627451\n",
      "召回率:0.8723404255319149\n",
      "f1值:0.8367346938775511\n",
      "混淆矩阵:[[34 10]\n",
      " [ 6 41]]\n",
      "分类报告:              precision    recall  f1-score   support\n",
      "\n",
      "           0       0.85      0.77      0.81        44\n",
      "           1       0.80      0.87      0.84        47\n",
      "\n",
      "    accuracy                           0.82        91\n",
      "   macro avg       0.83      0.82      0.82        91\n",
      "weighted avg       0.83      0.82      0.82        91\n",
      "\n"
     ]
    },
    {
     "name": "stderr",
     "output_type": "stream",
     "text": [
      "<ipython-input-11-ad0e27a23b0a>:20: SettingWithCopyWarning: \n",
      "A value is trying to be set on a copy of a slice from a DataFrame.\n",
      "Try using .loc[row_indexer,col_indexer] = value instead\n",
      "\n",
      "See the caveats in the documentation: https://pandas.pydata.org/pandas-docs/stable/user_guide/indexing.html#returning-a-view-versus-a-copy\n",
      "  id_test['prediction'] = y_pred\n"
     ]
    }
   ],
   "source": [
    "train_data_path = 'train_data.csv'\n",
    "test_data_path = 'test_data.csv'\n",
    "\n",
    "# 读取数据\n",
    "train_df = pd.read_csv(train_data_path)\n",
    "y_train = train_df.get('target')\n",
    "X_train = train_df.drop('target', axis=1)\n",
    "    \n",
    "\n",
    "test_df = pd.read_csv(test_data_path)\n",
    "y_test = test_df.get('target')\n",
    "X_test = test_df.drop('target', axis=1)\n",
    "   \n",
    "# id\n",
    "id_test = test_df[['target']]\n",
    "\n",
    "model_path = 'lr.pkl'\n",
    "model = joblib.load(model_path)\n",
    "y_pred = model.predict(X_test)\n",
    "id_test['prediction'] = y_pred\n",
    "\n",
    "# 查看预测结果\n",
    "print(f\"预测结果:{id_test}\")\n",
    "\n",
    "# 评估\n",
    "# 准确率\n",
    "accuracy_score_value = accuracy_score(y_test, y_pred)\n",
    "print(f\"准确率:{accuracy_score_value}\")\n",
    "\n",
    "precision_score_value = precision_score(y_test, y_pred)\n",
    "print(f\"精确率:{precision_score_value}\")\n",
    "\n",
    "recall_score_value = recall_score(y_test, y_pred)\n",
    "print(f\"召回率:{recall_score_value}\")\n",
    "\n",
    "f1_score_value = f1_score(y_test, y_pred)\n",
    "print(f\"f1值:{f1_score_value}\")\n",
    "\n",
    "confusion_matrix_value = confusion_matrix(y_test, y_pred)\n",
    "print(f\"混淆矩阵:{confusion_matrix_value}\")\n",
    "\n",
    "report = classification_report(y_test, y_pred)\n",
    "print(f\"分类报告:{report}\")"
   ]
  },
  {
   "cell_type": "code",
   "execution_count": 12,
   "metadata": {},
   "outputs": [
    {
     "data": {
      "text/plain": [
       "array([1, 0, 1, 0, 1, 0, 1, 1, 1, 0, 0, 1, 0, 0, 1, 1, 0, 0, 1, 0, 0, 1,\n",
       "       1, 0, 1, 0, 0, 1, 1, 1, 1, 0, 1, 1, 1, 0, 1, 0, 0, 1, 0, 0, 1, 1,\n",
       "       1, 1, 0, 1, 1, 1, 0, 1, 1, 0, 0, 0, 1, 1, 0, 1, 1, 0, 1, 1, 1, 1,\n",
       "       0, 1, 0, 1, 0, 1, 0, 1, 0, 0, 1, 0, 1, 1, 0, 1, 0, 1, 0, 1, 1, 1,\n",
       "       0, 0, 0], dtype=int64)"
      ]
     },
     "execution_count": 12,
     "metadata": {},
     "output_type": "execute_result"
    }
   ],
   "source": [
    "pd.DataFrame(y_pred).to_csv(\"Prediction_Result.csv\")"
   ]
  },
  {
   "cell_type": "code",
   "execution_count": 13,
   "metadata": {},
   "outputs": [],
   "source": [
    "import boto3\n",
    "\n",
    "access_key='9CC493F7E25194E921E7'\n",
    "secret_key='WzRENEQ0RUJGRkY5NzQyMDhCQjZFMDM0QkY0NTEx'\n",
    "host='http://scut.depts.bingosoft.net:29997'\n",
    "\n",
    "s3 = boto3.client('s3',\n",
    "    aws_access_key_id=access_key,\n",
    "    aws_secret_access_key=secret_key,\n",
    "    endpoint_url=host)\n",
    "\n",
    "s3.upload_file('lr.pkl', 'xiongbin', 'lr.pkl')"
   ]
  },
  {
   "cell_type": "code",
   "execution_count": null,
   "metadata": {},
   "outputs": [],
   "source": []
  }
 ],
 "metadata": {
  "kernelspec": {
   "display_name": "Python 3",
   "language": "python",
   "name": "python3"
  },
  "language_info": {
   "codemirror_mode": {
    "name": "ipython",
    "version": 3
   },
   "file_extension": ".py",
   "mimetype": "text/x-python",
   "name": "python",
   "nbconvert_exporter": "python",
   "pygments_lexer": "ipython3",
   "version": "3.8.3"
  }
 },
 "nbformat": 4,
 "nbformat_minor": 4
}
